{
  "nbformat": 4,
  "nbformat_minor": 0,
  "metadata": {
    "colab": {
      "name": "test_neural_csv.ipynb",
      "provenance": [],
      "collapsed_sections": [],
      "authorship_tag": "ABX9TyOP9Vjt7lCHQ26od6Rhgs9E",
      "include_colab_link": true
    },
    "kernelspec": {
      "name": "python3",
      "display_name": "Python 3"
    }
  },
  "cells": [
    {
      "cell_type": "markdown",
      "metadata": {
        "id": "view-in-github",
        "colab_type": "text"
      },
      "source": [
        "<a href=\"https://colab.research.google.com/github/VyzhD/Neural_test/blob/main/test_neural_csv.ipynb\" target=\"_parent\"><img src=\"https://colab.research.google.com/assets/colab-badge.svg\" alt=\"Open In Colab\"/></a>"
      ]
    },
    {
      "cell_type": "code",
      "metadata": {
        "id": "L_3XIGewC-X_"
      },
      "source": [
        ""
      ],
      "execution_count": null,
      "outputs": []
    },
    {
      "cell_type": "code",
      "metadata": {
        "id": "J6K_9INHDMAd"
      },
      "source": [
        "import functools\n",
        "import pandas as pd\n",
        "import numpy as np\n",
        "import tensorflow as tf\n",
        "from google.colab import drive"
      ],
      "execution_count": 1,
      "outputs": []
    },
    {
      "cell_type": "code",
      "metadata": {
        "colab": {
          "base_uri": "https://localhost:8080/"
        },
        "id": "id-weiP-qYyv",
        "outputId": "95ae8996-6bfe-4c69-b516-29717c4991b5"
      },
      "source": [
        "drive.mount('/content/drive')"
      ],
      "execution_count": 2,
      "outputs": [
        {
          "output_type": "stream",
          "text": [
            "Mounted at /content/drive\n"
          ],
          "name": "stdout"
        }
      ]
    },
    {
      "cell_type": "code",
      "metadata": {
        "id": "uqV3UT44DZZ7"
      },
      "source": [
        "TRAIN_DATA_URL = \"/content/drive/MyDrive/train.csv\"\n",
        "TEST_DATA_URL = \"/content/drive/MyDrive/eval.csv\""
      ],
      "execution_count": 10,
      "outputs": []
    },
    {
      "cell_type": "code",
      "metadata": {
        "id": "_C83eTXrDrDb"
      },
      "source": [
        "train_file_path = tf.keras.utils.get_file(\"/content/drive/MyDrive/train.csv\", TRAIN_DATA_URL)\n",
        "test_file_path = tf.keras.utils.get_file(\"/content/drive/MyDrive/eval.csv\", TEST_DATA_URL)"
      ],
      "execution_count": 11,
      "outputs": []
    },
    {
      "cell_type": "code",
      "metadata": {
        "id": "GnAClIw2E1sE"
      },
      "source": [
        "np.set_printoptions(precision=3, suppress=True)"
      ],
      "execution_count": 12,
      "outputs": []
    },
    {
      "cell_type": "code",
      "metadata": {
        "colab": {
          "base_uri": "https://localhost:8080/"
        },
        "id": "jDDUXTDDE3sC",
        "outputId": "263eb212-6d9b-47da-998b-74cfe95a59b6"
      },
      "source": [
        "!head {train_file_path}"
      ],
      "execution_count": 13,
      "outputs": [
        {
          "output_type": "stream",
          "text": [
            "survived,sex,age,n_siblings_spouses,parch,fare,class,deck,embark_town,alone\n",
            "0,male,22.0,1,0,7.25,Third,unknown,Southampton,n\n",
            "1,female,38.0,1,0,71.2833,First,C,Cherbourg,n\n",
            "1,female,26.0,0,0,7.925,Third,unknown,Southampton,y\n",
            "1,female,35.0,1,0,53.1,First,C,Southampton,n\n",
            "0,male,28.0,0,0,8.4583,Third,unknown,Queenstown,y\n",
            "0,male,2.0,3,1,21.075,Third,unknown,Southampton,n\n",
            "1,female,27.0,0,2,11.1333,Third,unknown,Southampton,n\n",
            "1,female,14.0,1,0,30.0708,Second,unknown,Cherbourg,n\n",
            "1,female,4.0,1,1,16.7,Third,G,Southampton,n\n"
          ],
          "name": "stdout"
        }
      ]
    },
    {
      "cell_type": "code",
      "metadata": {
        "colab": {
          "base_uri": "https://localhost:8080/"
        },
        "id": "twy7HLIRsQZ_",
        "outputId": "49589639-59ea-4e46-f8f2-862762e811e1"
      },
      "source": [
        "Label_column = 'survived'\n",
        "labels = [0, 1]\n",
        "print(labels)"
      ],
      "execution_count": 9,
      "outputs": [
        {
          "output_type": "stream",
          "text": [
            "[0, 1]\n"
          ],
          "name": "stdout"
        }
      ]
    },
    {
      "cell_type": "code",
      "metadata": {
        "id": "g64YRQ3ksgBu"
      },
      "source": [
        "def get_dataset(file_path, **kwargs):\n",
        "  dataset = tf.data.experimental.make_csv_dataset(\n",
        "      file_path,\n",
        "      batch_size=5, # Значение искусственно занижено для удобства восприятия.\n",
        "      label_name=Label_column,\n",
        "      na_value=\"?\",\n",
        "      num_epochs=1,\n",
        "      ignore_errors=True, \n",
        "      **kwargs)\n",
        "  return dataset\n",
        "\n",
        "raw_train_data = get_dataset(train_file_path)\n",
        "raw_test_data = get_dataset(test_file_path)"
      ],
      "execution_count": 14,
      "outputs": []
    },
    {
      "cell_type": "code",
      "metadata": {
        "id": "WyCCyfnOtuYP"
      },
      "source": [
        "def show_batch(dataset):\n",
        "  for batch, label in dataset.take(1):\n",
        "    for key, value in batch.items():\n",
        "      print(\"{:20s}: {}\".format(key,value.numpy()))"
      ],
      "execution_count": 16,
      "outputs": []
    },
    {
      "cell_type": "code",
      "metadata": {
        "colab": {
          "base_uri": "https://localhost:8080/"
        },
        "id": "q8xifbD9t3Bv",
        "outputId": "75b0493c-4a4b-4806-e4af-fa854e88f449"
      },
      "source": [
        "show_batch(raw_train_data)"
      ],
      "execution_count": 17,
      "outputs": [
        {
          "output_type": "stream",
          "text": [
            "sex                 : [b'male' b'male' b'female' b'female' b'male']\n",
            "age                 : [28. 25. 35. 38.  4.]\n",
            "n_siblings_spouses  : [0 0 0 1 4]\n",
            "parch               : [0 0 0 0 1]\n",
            "fare                : [  0.     13.    135.633  71.283  29.125]\n",
            "class               : [b'First' b'Second' b'First' b'First' b'Third']\n",
            "deck                : [b'B' b'unknown' b'C' b'C' b'unknown']\n",
            "embark_town         : [b'Southampton' b'Southampton' b'Southampton' b'Cherbourg' b'Queenstown']\n",
            "alone               : [b'y' b'y' b'y' b'n' b'n']\n"
          ],
          "name": "stdout"
        }
      ]
    },
    {
      "cell_type": "code",
      "metadata": {
        "id": "fnmQV-43usZm"
      },
      "source": [
        "class PackNumericFeatures(object):\n",
        "  def __init__(self, names):\n",
        "    self.names = names\n",
        "\n",
        "  def __call__(self, features, labels):\n",
        "    numeric_freatures = [features.pop(name) for name in self.names]\n",
        "    numeric_features = [tf.cast(feat, tf.float32) for feat in numeric_freatures]\n",
        "    numeric_features = tf.stack(numeric_features, axis=-1)\n",
        "    features['numeric'] = numeric_features\n",
        "\n",
        "    return features, labels"
      ],
      "execution_count": 18,
      "outputs": []
    },
    {
      "cell_type": "code",
      "metadata": {
        "id": "QYbqHIyEuvao"
      },
      "source": [
        "NUMERIC_FEATURES = ['age','n_siblings_spouses','parch', 'fare']\n",
        "\n",
        "packed_train_data = raw_train_data.map(\n",
        "    PackNumericFeatures(NUMERIC_FEATURES))\n",
        "\n",
        "packed_test_data = raw_test_data.map(\n",
        "    PackNumericFeatures(NUMERIC_FEATURES))"
      ],
      "execution_count": 19,
      "outputs": []
    },
    {
      "cell_type": "code",
      "metadata": {
        "colab": {
          "base_uri": "https://localhost:8080/"
        },
        "id": "5Q2UzLwkuykH",
        "outputId": "67f4194b-bd67-4658-8617-ddb3c1a770c3"
      },
      "source": [
        "show_batch(packed_train_data)"
      ],
      "execution_count": 20,
      "outputs": [
        {
          "output_type": "stream",
          "text": [
            "sex                 : [b'female' b'female' b'male' b'male' b'male']\n",
            "class               : [b'Third' b'Third' b'Second' b'Third' b'Second']\n",
            "deck                : [b'unknown' b'unknown' b'unknown' b'unknown' b'unknown']\n",
            "embark_town         : [b'Queenstown' b'Southampton' b'Southampton' b'Southampton' b'Southampton']\n",
            "alone               : [b'y' b'n' b'y' b'y' b'y']\n",
            "numeric             : [[28.     0.     0.     7.75 ]\n",
            " [11.     4.     2.    31.275]\n",
            " [32.     0.     0.    10.5  ]\n",
            " [35.     0.     0.     7.125]\n",
            " [30.     0.     0.    13.   ]]\n"
          ],
          "name": "stdout"
        }
      ]
    },
    {
      "cell_type": "code",
      "metadata": {
        "id": "JHFWVQALu1Y6"
      },
      "source": [
        "example_batch, labels_batch = next(iter(packed_train_data)) "
      ],
      "execution_count": 21,
      "outputs": []
    },
    {
      "cell_type": "code",
      "metadata": {
        "colab": {
          "base_uri": "https://localhost:8080/"
        },
        "id": "TG2PGi9ju6Yn",
        "outputId": "95949acb-d059-4645-eef2-6539c4409a0f"
      },
      "source": [
        "import pandas as pd\n",
        "desc = pd.read_csv(train_file_path)[NUMERIC_FEATURES].describe()\n",
        "print(desc)"
      ],
      "execution_count": 23,
      "outputs": [
        {
          "output_type": "stream",
          "text": [
            "              age  n_siblings_spouses       parch        fare\n",
            "count  627.000000          627.000000  627.000000  627.000000\n",
            "mean    29.631308            0.545455    0.379585   34.385399\n",
            "std     12.511818            1.151090    0.792999   54.597730\n",
            "min      0.750000            0.000000    0.000000    0.000000\n",
            "25%     23.000000            0.000000    0.000000    7.895800\n",
            "50%     28.000000            0.000000    0.000000   15.045800\n",
            "75%     35.000000            1.000000    0.000000   31.387500\n",
            "max     80.000000            8.000000    5.000000  512.329200\n"
          ],
          "name": "stdout"
        }
      ]
    },
    {
      "cell_type": "code",
      "metadata": {
        "id": "ak8iyvBwvJw4"
      },
      "source": [
        "MEAN = np.array(desc.T['mean'])\n",
        "STD = np.array(desc.T['std'])\n",
        "\n",
        "def normalize_numeric_data(data, mean, std):\n",
        "  # Центрируем данные\n",
        "  return (data-mean)/std"
      ],
      "execution_count": 24,
      "outputs": []
    },
    {
      "cell_type": "code",
      "metadata": {
        "colab": {
          "base_uri": "https://localhost:8080/"
        },
        "id": "qmadhhGdvSL3",
        "outputId": "acf5fc7f-7087-4bae-cc4d-f31f1bca6ddd"
      },
      "source": [
        "# See what you just created.\n",
        "normalizer = functools.partial(normalize_numeric_data, mean=MEAN, std=STD)\n",
        "\n",
        "numeric_column = tf.feature_column.numeric_column('numeric', normalizer_fn=normalizer, shape=[len(NUMERIC_FEATURES)])\n",
        "numeric_columns = [numeric_column]\n",
        "numeric_column"
      ],
      "execution_count": 25,
      "outputs": [
        {
          "output_type": "execute_result",
          "data": {
            "text/plain": [
              "NumericColumn(key='numeric', shape=(4,), default_value=None, dtype=tf.float32, normalizer_fn=functools.partial(<function normalize_numeric_data at 0x7f69cea43598>, mean=array([29.631,  0.545,  0.38 , 34.385]), std=array([12.512,  1.151,  0.793, 54.598])))"
            ]
          },
          "metadata": {
            "tags": []
          },
          "execution_count": 25
        }
      ]
    },
    {
      "cell_type": "code",
      "metadata": {
        "id": "49G2urxSvZRX"
      },
      "source": [
        "CATEGORIES = {\n",
        "    'sex': ['male', 'female'],\n",
        "    'class' : ['First', 'Second', 'Third'],\n",
        "    'deck' : ['A', 'B', 'C', 'D', 'E', 'F', 'G', 'H', 'I', 'J'],\n",
        "    'embark_town' : ['Cherbourg', 'Southhampton', 'Queenstown'],\n",
        "    'alone' : ['y', 'n']\n",
        "}\n"
      ],
      "execution_count": 26,
      "outputs": []
    },
    {
      "cell_type": "code",
      "metadata": {
        "id": "zBsmklQOvZ_P"
      },
      "source": [
        "categorical_columns = []\n",
        "for feature, vocab in CATEGORIES.items():\n",
        "  cat_col = tf.feature_column.categorical_column_with_vocabulary_list(\n",
        "        key=feature, vocabulary_list=vocab)\n",
        "  categorical_columns.append(tf.feature_column.indicator_column(cat_col))"
      ],
      "execution_count": 27,
      "outputs": []
    },
    {
      "cell_type": "code",
      "metadata": {
        "colab": {
          "base_uri": "https://localhost:8080/"
        },
        "id": "jMTXJSlvvdDR",
        "outputId": "124c6a5b-3db3-4ccb-9251-293c8825ce09"
      },
      "source": [
        "categorical_columns"
      ],
      "execution_count": 28,
      "outputs": [
        {
          "output_type": "execute_result",
          "data": {
            "text/plain": [
              "[IndicatorColumn(categorical_column=VocabularyListCategoricalColumn(key='sex', vocabulary_list=('male', 'female'), dtype=tf.string, default_value=-1, num_oov_buckets=0)),\n",
              " IndicatorColumn(categorical_column=VocabularyListCategoricalColumn(key='class', vocabulary_list=('First', 'Second', 'Third'), dtype=tf.string, default_value=-1, num_oov_buckets=0)),\n",
              " IndicatorColumn(categorical_column=VocabularyListCategoricalColumn(key='deck', vocabulary_list=('A', 'B', 'C', 'D', 'E', 'F', 'G', 'H', 'I', 'J'), dtype=tf.string, default_value=-1, num_oov_buckets=0)),\n",
              " IndicatorColumn(categorical_column=VocabularyListCategoricalColumn(key='embark_town', vocabulary_list=('Cherbourg', 'Southhampton', 'Queenstown'), dtype=tf.string, default_value=-1, num_oov_buckets=0)),\n",
              " IndicatorColumn(categorical_column=VocabularyListCategoricalColumn(key='alone', vocabulary_list=('y', 'n'), dtype=tf.string, default_value=-1, num_oov_buckets=0))]"
            ]
          },
          "metadata": {
            "tags": []
          },
          "execution_count": 28
        }
      ]
    },
    {
      "cell_type": "code",
      "metadata": {
        "colab": {
          "base_uri": "https://localhost:8080/"
        },
        "id": "wFbn9bJpvhaP",
        "outputId": "b7c659a7-1efb-4ce9-ce48-308e4f1d3813"
      },
      "source": [
        "categorical_layer = tf.keras.layers.DenseFeatures(categorical_columns)\n",
        "print(categorical_layer(example_batch).numpy()[0])"
      ],
      "execution_count": 29,
      "outputs": [
        {
          "output_type": "stream",
          "text": [
            "[1. 0. 0. 0. 1. 0. 0. 0. 0. 0. 0. 0. 0. 0. 0. 0. 0. 0. 1. 0.]\n"
          ],
          "name": "stdout"
        }
      ]
    },
    {
      "cell_type": "code",
      "metadata": {
        "colab": {
          "base_uri": "https://localhost:8080/"
        },
        "id": "-rk56WegvmvQ",
        "outputId": "f0c948f7-c4bf-4040-a18a-6378f3055bea"
      },
      "source": [
        "preprocessing_layer = tf.keras.layers.DenseFeatures(categorical_columns+numeric_columns)\n",
        "print(preprocessing_layer(example_batch).numpy()[0])"
      ],
      "execution_count": 31,
      "outputs": [
        {
          "output_type": "stream",
          "text": [
            "[ 1.     0.     0.     0.     1.     0.     0.     0.     0.     0.\n",
            "  0.     0.     0.     0.     0.     0.     0.     0.     0.349 -0.474\n",
            " -0.479 -0.482  1.     0.   ]\n"
          ],
          "name": "stdout"
        }
      ]
    },
    {
      "cell_type": "code",
      "metadata": {
        "id": "5wuhtTUKvtc3"
      },
      "source": [
        "model = tf.keras.Sequential([\n",
        "  preprocessing_layer,\n",
        "  tf.keras.layers.Dense(128, activation='relu'),\n",
        "  tf.keras.layers.Dense(128, activation='relu'),\n",
        "  tf.keras.layers.Dense(1, activation='sigmoid'),\n",
        "])\n",
        "\n",
        "model.compile(\n",
        "    loss='binary_crossentropy',\n",
        "    optimizer='adam',\n",
        "    metrics=['accuracy'])"
      ],
      "execution_count": 32,
      "outputs": []
    },
    {
      "cell_type": "code",
      "metadata": {
        "id": "wx1TtTXDvxah"
      },
      "source": [
        "train_data = packed_train_data.shuffle(500)\n",
        "test_data = packed_test_data"
      ],
      "execution_count": 33,
      "outputs": []
    },
    {
      "cell_type": "code",
      "metadata": {
        "colab": {
          "base_uri": "https://localhost:8080/"
        },
        "id": "Ib3qDOrrvzM_",
        "outputId": "1d6ac4b3-b05d-490a-8ad5-d288f57b9a14"
      },
      "source": [
        "model.fit(train_data, epochs=20)"
      ],
      "execution_count": 34,
      "outputs": [
        {
          "output_type": "stream",
          "text": [
            "Epoch 1/20\n",
            "WARNING:tensorflow:Layers in a Sequential model should only have a single input tensor, but we receive a <class 'collections.OrderedDict'> input: OrderedDict([('sex', <tf.Tensor 'ExpandDims_4:0' shape=(None, 1) dtype=string>), ('class', <tf.Tensor 'ExpandDims_1:0' shape=(None, 1) dtype=string>), ('deck', <tf.Tensor 'ExpandDims_2:0' shape=(None, 1) dtype=string>), ('embark_town', <tf.Tensor 'ExpandDims_3:0' shape=(None, 1) dtype=string>), ('alone', <tf.Tensor 'ExpandDims:0' shape=(None, 1) dtype=string>), ('numeric', <tf.Tensor 'IteratorGetNext:4' shape=(None, 4) dtype=float32>)])\n",
            "Consider rewriting this model with the Functional API.\n",
            "WARNING:tensorflow:Layers in a Sequential model should only have a single input tensor, but we receive a <class 'collections.OrderedDict'> input: OrderedDict([('sex', <tf.Tensor 'ExpandDims_4:0' shape=(None, 1) dtype=string>), ('class', <tf.Tensor 'ExpandDims_1:0' shape=(None, 1) dtype=string>), ('deck', <tf.Tensor 'ExpandDims_2:0' shape=(None, 1) dtype=string>), ('embark_town', <tf.Tensor 'ExpandDims_3:0' shape=(None, 1) dtype=string>), ('alone', <tf.Tensor 'ExpandDims:0' shape=(None, 1) dtype=string>), ('numeric', <tf.Tensor 'IteratorGetNext:4' shape=(None, 4) dtype=float32>)])\n",
            "Consider rewriting this model with the Functional API.\n",
            "126/126 [==============================] - 0s 2ms/step - loss: 0.5074 - accuracy: 0.7624\n",
            "Epoch 2/20\n",
            "126/126 [==============================] - 0s 2ms/step - loss: 0.4164 - accuracy: 0.8325\n",
            "Epoch 3/20\n",
            "126/126 [==============================] - 0s 1ms/step - loss: 0.3991 - accuracy: 0.8389\n",
            "Epoch 4/20\n",
            "126/126 [==============================] - 0s 2ms/step - loss: 0.3853 - accuracy: 0.8373\n",
            "Epoch 5/20\n",
            "126/126 [==============================] - 0s 2ms/step - loss: 0.3740 - accuracy: 0.8437\n",
            "Epoch 6/20\n",
            "126/126 [==============================] - 0s 1ms/step - loss: 0.3667 - accuracy: 0.8325\n",
            "Epoch 7/20\n",
            "126/126 [==============================] - 0s 2ms/step - loss: 0.3635 - accuracy: 0.8405\n",
            "Epoch 8/20\n",
            "126/126 [==============================] - 0s 1ms/step - loss: 0.3529 - accuracy: 0.8469\n",
            "Epoch 9/20\n",
            "126/126 [==============================] - 0s 2ms/step - loss: 0.3511 - accuracy: 0.8596\n",
            "Epoch 10/20\n",
            "126/126 [==============================] - 0s 2ms/step - loss: 0.3458 - accuracy: 0.8437\n",
            "Epoch 11/20\n",
            "126/126 [==============================] - 0s 1ms/step - loss: 0.3445 - accuracy: 0.8421\n",
            "Epoch 12/20\n",
            "126/126 [==============================] - 0s 2ms/step - loss: 0.3327 - accuracy: 0.8676\n",
            "Epoch 13/20\n",
            "126/126 [==============================] - 0s 2ms/step - loss: 0.3291 - accuracy: 0.8565\n",
            "Epoch 14/20\n",
            "126/126 [==============================] - 0s 2ms/step - loss: 0.3311 - accuracy: 0.8628\n",
            "Epoch 15/20\n",
            "126/126 [==============================] - 0s 2ms/step - loss: 0.3213 - accuracy: 0.8549\n",
            "Epoch 16/20\n",
            "126/126 [==============================] - 0s 2ms/step - loss: 0.3231 - accuracy: 0.8628\n",
            "Epoch 17/20\n",
            "126/126 [==============================] - 0s 2ms/step - loss: 0.3224 - accuracy: 0.8676\n",
            "Epoch 18/20\n",
            "126/126 [==============================] - 0s 2ms/step - loss: 0.3188 - accuracy: 0.8612\n",
            "Epoch 19/20\n",
            "126/126 [==============================] - 0s 2ms/step - loss: 0.3072 - accuracy: 0.8565\n",
            "Epoch 20/20\n",
            "126/126 [==============================] - 0s 2ms/step - loss: 0.3087 - accuracy: 0.8756\n"
          ],
          "name": "stdout"
        },
        {
          "output_type": "execute_result",
          "data": {
            "text/plain": [
              "<tensorflow.python.keras.callbacks.History at 0x7f69cea4fb00>"
            ]
          },
          "metadata": {
            "tags": []
          },
          "execution_count": 34
        }
      ]
    },
    {
      "cell_type": "code",
      "metadata": {
        "colab": {
          "base_uri": "https://localhost:8080/"
        },
        "id": "UToHfptWv4_i",
        "outputId": "4dc56c49-6401-4389-dd66-9c0988040399"
      },
      "source": [
        "test_loss, test_accuracy = model.evaluate(test_data)\n",
        "\n",
        "print('\\n\\nTest Loss {}, Test Accuracy {}'.format(test_loss, test_accuracy))"
      ],
      "execution_count": 35,
      "outputs": [
        {
          "output_type": "stream",
          "text": [
            "WARNING:tensorflow:Layers in a Sequential model should only have a single input tensor, but we receive a <class 'collections.OrderedDict'> input: OrderedDict([('sex', <tf.Tensor 'ExpandDims_4:0' shape=(None, 1) dtype=string>), ('class', <tf.Tensor 'ExpandDims_1:0' shape=(None, 1) dtype=string>), ('deck', <tf.Tensor 'ExpandDims_2:0' shape=(None, 1) dtype=string>), ('embark_town', <tf.Tensor 'ExpandDims_3:0' shape=(None, 1) dtype=string>), ('alone', <tf.Tensor 'ExpandDims:0' shape=(None, 1) dtype=string>), ('numeric', <tf.Tensor 'IteratorGetNext:4' shape=(None, 4) dtype=float32>)])\n",
            "Consider rewriting this model with the Functional API.\n",
            "53/53 [==============================] - 0s 1ms/step - loss: 0.4655 - accuracy: 0.8409\n",
            "\n",
            "\n",
            "Test Loss 0.46545612812042236, Test Accuracy 0.8409090638160706\n"
          ],
          "name": "stdout"
        }
      ]
    },
    {
      "cell_type": "code",
      "metadata": {
        "colab": {
          "base_uri": "https://localhost:8080/"
        },
        "id": "10tNZ-jfwAwO",
        "outputId": "9bcbf426-e8d6-4a2f-fe5c-e1309cdb9d65"
      },
      "source": [
        "predictions = model.predict(test_data)"
      ],
      "execution_count": 36,
      "outputs": [
        {
          "output_type": "stream",
          "text": [
            "WARNING:tensorflow:Layers in a Sequential model should only have a single input tensor, but we receive a <class 'collections.OrderedDict'> input: OrderedDict([('sex', <tf.Tensor 'ExpandDims_4:0' shape=(None, 1) dtype=string>), ('class', <tf.Tensor 'ExpandDims_1:0' shape=(None, 1) dtype=string>), ('deck', <tf.Tensor 'ExpandDims_2:0' shape=(None, 1) dtype=string>), ('embark_town', <tf.Tensor 'ExpandDims_3:0' shape=(None, 1) dtype=string>), ('alone', <tf.Tensor 'ExpandDims:0' shape=(None, 1) dtype=string>), ('numeric', <tf.Tensor 'IteratorGetNext:4' shape=(None, 4) dtype=float32>)])\n",
            "Consider rewriting this model with the Functional API.\n"
          ],
          "name": "stdout"
        }
      ]
    },
    {
      "cell_type": "code",
      "metadata": {
        "colab": {
          "base_uri": "https://localhost:8080/"
        },
        "id": "q5X_zEIwwDbA",
        "outputId": "caae629d-d1cc-4547-ac98-955c629880df"
      },
      "source": [
        "# Покажем некоторые результаты\n",
        "for prediction, survived in zip(predictions[:10], list(test_data)[0][1][:10]):\n",
        "  print(\"Predicted survival: {:.2%}\".format(prediction[0]),\n",
        "        \" | Actual outcome: \",\n",
        "        (\"SURVIVED\" if bool(survived) else \"DIED\"))"
      ],
      "execution_count": 37,
      "outputs": [
        {
          "output_type": "stream",
          "text": [
            "Predicted survival: 99.89%  | Actual outcome:  SURVIVED\n",
            "Predicted survival: 90.69%  | Actual outcome:  DIED\n",
            "Predicted survival: 4.04%  | Actual outcome:  DIED\n",
            "Predicted survival: 5.64%  | Actual outcome:  SURVIVED\n",
            "Predicted survival: 99.88%  | Actual outcome:  SURVIVED\n"
          ],
          "name": "stdout"
        }
      ]
    },
    {
      "cell_type": "markdown",
      "metadata": {
        "id": "lbeRgBoGDLc9"
      },
      "source": [
        ""
      ]
    }
  ]
}