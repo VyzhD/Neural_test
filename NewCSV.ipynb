{
  "nbformat": 4,
  "nbformat_minor": 0,
  "metadata": {
    "colab": {
      "name": "NewCSV",
      "provenance": [],
      "collapsed_sections": [],
      "authorship_tag": "ABX9TyNu3ZXKu0JBTSup7IwAXCvA",
      "include_colab_link": true
    },
    "kernelspec": {
      "name": "python3",
      "display_name": "Python 3"
    }
  },
  "cells": [
    {
      "cell_type": "markdown",
      "metadata": {
        "id": "view-in-github",
        "colab_type": "text"
      },
      "source": [
        "<a href=\"https://colab.research.google.com/github/VyzhD/Neural_test/blob/main/NewCSV.ipynb\" target=\"_parent\"><img src=\"https://colab.research.google.com/assets/colab-badge.svg\" alt=\"Open In Colab\"/></a>"
      ]
    },
    {
      "cell_type": "code",
      "metadata": {
        "id": "9JEELYhL1fI0"
      },
      "source": [
        "import functools\n",
        "import pandas as pd\n",
        "import numpy as np\n",
        "import tensorflow as tf\n",
        "from google.colab import drive\n",
        "from google.colab import files"
      ],
      "execution_count": 29,
      "outputs": []
    },
    {
      "cell_type": "code",
      "metadata": {
        "colab": {
          "base_uri": "https://localhost:8080/"
        },
        "id": "uChulKd01twt",
        "outputId": "7e42198e-c2e0-41d0-c71d-cdf0c171e7ac"
      },
      "source": [
        "drive.mount('/content/drive')"
      ],
      "execution_count": null,
      "outputs": [
        {
          "output_type": "stream",
          "text": [
            "Mounted at /content/drive\n"
          ],
          "name": "stdout"
        }
      ]
    },
    {
      "cell_type": "code",
      "metadata": {
        "id": "95fM8iJZ1_RQ"
      },
      "source": [
        "TRAIN_DATA_URL = \"/content/drive/MyDrive/Gcat.csv\""
      ],
      "execution_count": 15,
      "outputs": []
    },
    {
      "cell_type": "code",
      "metadata": {
        "id": "z63Zo-0e2DBt"
      },
      "source": [
        "train_file_path = tf.keras.utils.get_file(\"/content/drive/MyDrive/Gcat.csv\", TRAIN_DATA_URL)"
      ],
      "execution_count": 16,
      "outputs": []
    },
    {
      "cell_type": "code",
      "metadata": {
        "colab": {
          "base_uri": "https://localhost:8080/",
          "height": 68
        },
        "id": "E9M2K51G5bjv",
        "outputId": "bd5f8869-7017-4807-d6e9-21c4c3260806"
      },
      "source": [
        "df = pd.read_csv(train_file_path)\n",
        "print(len(df))\n",
        "train_df, test_df  = np.split(df,[int(len(df) * .80)])\n",
        "train_df.to_csv('train.csv')\n",
        "\n",
        "test_df.to_csv('test.csv')\n",
        "files.download('train.csv')\n",
        "files.download('test.csv')\n",
        "print(len(train_df))\n",
        "print(len(test_df))"
      ],
      "execution_count": 31,
      "outputs": [
        {
          "output_type": "stream",
          "text": [
            "155231\n"
          ],
          "name": "stdout"
        },
        {
          "output_type": "display_data",
          "data": {
            "application/javascript": [
              "\n",
              "    async function download(id, filename, size) {\n",
              "      if (!google.colab.kernel.accessAllowed) {\n",
              "        return;\n",
              "      }\n",
              "      const div = document.createElement('div');\n",
              "      const label = document.createElement('label');\n",
              "      label.textContent = `Downloading \"${filename}\": `;\n",
              "      div.appendChild(label);\n",
              "      const progress = document.createElement('progress');\n",
              "      progress.max = size;\n",
              "      div.appendChild(progress);\n",
              "      document.body.appendChild(div);\n",
              "\n",
              "      const buffers = [];\n",
              "      let downloaded = 0;\n",
              "\n",
              "      const channel = await google.colab.kernel.comms.open(id);\n",
              "      // Send a message to notify the kernel that we're ready.\n",
              "      channel.send({})\n",
              "\n",
              "      for await (const message of channel.messages) {\n",
              "        // Send a message to notify the kernel that we're ready.\n",
              "        channel.send({})\n",
              "        if (message.buffers) {\n",
              "          for (const buffer of message.buffers) {\n",
              "            buffers.push(buffer);\n",
              "            downloaded += buffer.byteLength;\n",
              "            progress.value = downloaded;\n",
              "          }\n",
              "        }\n",
              "      }\n",
              "      const blob = new Blob(buffers, {type: 'application/binary'});\n",
              "      const a = document.createElement('a');\n",
              "      a.href = window.URL.createObjectURL(blob);\n",
              "      a.download = filename;\n",
              "      div.appendChild(a);\n",
              "      a.click();\n",
              "      div.remove();\n",
              "    }\n",
              "  "
            ],
            "text/plain": [
              "<IPython.core.display.Javascript object>"
            ]
          },
          "metadata": {
            "tags": []
          }
        },
        {
          "output_type": "display_data",
          "data": {
            "application/javascript": [
              "download(\"download_940efa62-19c1-477f-8893-552d05597ba7\", \"train.csv\", 25020556)"
            ],
            "text/plain": [
              "<IPython.core.display.Javascript object>"
            ]
          },
          "metadata": {
            "tags": []
          }
        },
        {
          "output_type": "display_data",
          "data": {
            "application/javascript": [
              "\n",
              "    async function download(id, filename, size) {\n",
              "      if (!google.colab.kernel.accessAllowed) {\n",
              "        return;\n",
              "      }\n",
              "      const div = document.createElement('div');\n",
              "      const label = document.createElement('label');\n",
              "      label.textContent = `Downloading \"${filename}\": `;\n",
              "      div.appendChild(label);\n",
              "      const progress = document.createElement('progress');\n",
              "      progress.max = size;\n",
              "      div.appendChild(progress);\n",
              "      document.body.appendChild(div);\n",
              "\n",
              "      const buffers = [];\n",
              "      let downloaded = 0;\n",
              "\n",
              "      const channel = await google.colab.kernel.comms.open(id);\n",
              "      // Send a message to notify the kernel that we're ready.\n",
              "      channel.send({})\n",
              "\n",
              "      for await (const message of channel.messages) {\n",
              "        // Send a message to notify the kernel that we're ready.\n",
              "        channel.send({})\n",
              "        if (message.buffers) {\n",
              "          for (const buffer of message.buffers) {\n",
              "            buffers.push(buffer);\n",
              "            downloaded += buffer.byteLength;\n",
              "            progress.value = downloaded;\n",
              "          }\n",
              "        }\n",
              "      }\n",
              "      const blob = new Blob(buffers, {type: 'application/binary'});\n",
              "      const a = document.createElement('a');\n",
              "      a.href = window.URL.createObjectURL(blob);\n",
              "      a.download = filename;\n",
              "      div.appendChild(a);\n",
              "      a.click();\n",
              "      div.remove();\n",
              "    }\n",
              "  "
            ],
            "text/plain": [
              "<IPython.core.display.Javascript object>"
            ]
          },
          "metadata": {
            "tags": []
          }
        },
        {
          "output_type": "display_data",
          "data": {
            "application/javascript": [
              "download(\"download_52999bf4-6a75-4f3d-9bdc-4dba4cad7b8e\", \"test.csv\", 6314093)"
            ],
            "text/plain": [
              "<IPython.core.display.Javascript object>"
            ]
          },
          "metadata": {
            "tags": []
          }
        },
        {
          "output_type": "stream",
          "text": [
            "124184\n",
            "31047\n"
          ],
          "name": "stdout"
        }
      ]
    },
    {
      "cell_type": "code",
      "metadata": {
        "colab": {
          "base_uri": "https://localhost:8080/"
        },
        "id": "5-3KI-i12InM",
        "outputId": "46465302-c8c0-49c2-b4df-952a35c3a791"
      },
      "source": [
        "!head {train_file_path}"
      ],
      "execution_count": 18,
      "outputs": [
        {
          "output_type": "stream",
          "text": [
            "index,filename,seg_index,NUMBER,a0,z,cam,filter,gal_id,prob_mean,prob_int,flux,X_IMAGE,Y_IMAGE,A_IMAGE,B_IMAGE,THETA_IMAGE,XPEAK_IMAGE,YPEAK_IMAGE,instrument\r\n",
            "0,VELA07_a0.230_sunrise_cam00_ACS-F435W_SB00-pred,39,1,0.23,3.3480000000000003,0,F435W,VELA07,0.9212592244148254,11.976369857788086,0.1281723529100418,60.9501,64.9543,0.907,0.895,7.74,60,65,ACS\r\n",
            "1,VELA07_a0.230_sunrise_cam00_ACS-F435W_SB00-pred,39,2,0.23,3.3480000000000003,0,F435W,VELA07,0.6451250910758972,12.257376670837402,0.1832644194364548,60.1553,76.6267,1.093,0.943,-55.35,60,76,ACS\r\n",
            "2,VELA07_a0.230_sunrise_cam00_ACS-F435W_SB00-pred,39,3,0.23,3.3480000000000003,0,F435W,VELA07,0.4562985301017761,8.669672012329103,0.23818285763263705,59.8329,71.8508,1.086,1.01,9.8,60,72,ACS\r\n",
            "3,VELA07_a0.230_sunrise_cam00_ACS-F435W_SB00-pred,39,4,0.23,3.3480000000000003,0,F435W,VELA07,0.6424863338470459,10.279781341552734,0.16291317343711853,66.0771,64.9776,0.99,0.941,66.84,66,65,ACS\r\n",
            "4,VELA07_a0.230_sunrise_cam01_ACS-F435W_SB00-pred,40,1,0.23,3.3480000000000003,1,F435W,VELA07,0.2573860287666321,4.118176460266113,0.09590016305446623,67.6979,63.0135,1.269,0.8759999999999999,-80.99,67,64,ACS\r\n",
            "5,VELA07_a0.230_sunrise_cam01_ACS-F435W_SB00-pred,40,2,0.23,3.3480000000000003,1,F435W,VELA07,0.2491661459207535,5.4816551208496085,0.13120342791080475,72.1288,63.6792,1.3230000000000002,1.089,42.56,73,63,ACS\r\n",
            "6,VELA07_a0.230_sunrise_cam01_ACS-F435W_SB00-pred,40,3,0.23,3.3480000000000003,1,F435W,VELA07,0.6044794917106628,12.694068908691404,0.17076677083969116,63.4526,63.1722,1.215,0.972,-3.31,63,64,ACS\r\n",
            "7,VELA07_a0.230_sunrise_cam02_ACS-F435W_SB00-pred,41,1,0.23,3.3480000000000003,2,F435W,VELA07,0.8041582107543945,12.866531372070312,0.2293166518211365,64.4669,64.8852,0.947,0.8809999999999999,-30.21,64,65,ACS\r\n",
            "8,VELA07_a0.230_sunrise_cam02_ACS-F435W_SB00-pred,41,2,0.23,3.3480000000000003,2,F435W,VELA07,0.4020959436893463,6.835630893707275,0.1109660342335701,56.718,70.0435,1.012,0.992,89.29,57,71,ACS\r\n"
          ],
          "name": "stdout"
        }
      ]
    }
  ]
}